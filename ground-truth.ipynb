{
 "cells": [
  {
   "cell_type": "markdown",
   "metadata": {},
   "source": [
    "# Step 1 - Extract the basic frames from the video"
   ]
  },
  {
   "cell_type": "code",
   "execution_count": null,
   "metadata": {},
   "outputs": [],
   "source": [
    "import cv2\n",
    "import os\n",
    "\n",
    "# Constants\n",
    "VIDEO_PATH = \"data/tennis_match.mp4\"  # Replace with your video file\n",
    "OUTPUT_FOLDER = \"annotated_frames\"\n",
    "os.makedirs(OUTPUT_FOLDER, exist_ok=True)  # Create folder if not exists\n",
    "\n",
    "# Open video file\n",
    "cap = cv2.VideoCapture(VIDEO_PATH)\n",
    "frame_count = 0\n",
    "\n",
    "while cap.isOpened():\n",
    "    ret, frame = cap.read()\n",
    "    if not ret:\n",
    "        break  # Stop when video ends\n",
    "\n",
    "    frame_count += 1\n",
    "    frame_filename = os.path.join(OUTPUT_FOLDER, f\"frame_{frame_count:04d}.jpg\")  # Save with zero-padded numbers\n",
    "    cv2.imwrite(frame_filename, frame)  # Save frame as image\n",
    "    print(f\"Saved {frame_filename}\")\n",
    "\n",
    "cap.release()\n",
    "print(f\"✅ Extraction complete! Frames saved in '{OUTPUT_FOLDER}'\")"
   ]
  },
  {
   "cell_type": "markdown",
   "metadata": {},
   "source": [
    "# Step 2 - Manually run all the frames and annotate players"
   ]
  },
  {
   "cell_type": "markdown",
   "metadata": {},
   "source": [
    "# Step 3 - Take annotated frames and generate ground truth csv"
   ]
  },
  {
   "cell_type": "code",
   "execution_count": 1,
   "metadata": {},
   "outputs": [
    {
     "name": "stdout",
     "output_type": "stream",
     "text": [
      "✅ Ground truth saved to ground_truth.csv\n"
     ]
    }
   ],
   "source": [
    "import cv2\n",
    "import os\n",
    "import numpy as np\n",
    "import pandas as pd\n",
    "\n",
    "# Constants\n",
    "FRAME_FOLDER = \"annotated_frames\"  # Folder containing annotated frames\n",
    "OUTPUT_CSV = \"ground_truth.csv\"\n",
    "LOWER_RED = np.array([0, 50, 50])    # Lower HSV for Red\n",
    "UPPER_RED = np.array([10, 255, 255])  # Upper HSV for Red\n",
    "LOWER_YELLOW = np.array([20, 100, 100])  # Lower HSV for Yellow\n",
    "UPPER_YELLOW = np.array([30, 255, 255])  # Upper HSV for Yellow\n",
    "\n",
    "# Function to detect players in an annotated frame\n",
    "def detect_players(image, lower_color, upper_color):\n",
    "    hsv = cv2.cvtColor(image, cv2.COLOR_BGR2HSV)  # Convert to HSV\n",
    "    mask = cv2.inRange(hsv, lower_color, upper_color)  # Create a mask for the color\n",
    "    contours, _ = cv2.findContours(mask, cv2.RETR_EXTERNAL, cv2.CHAIN_APPROX_SIMPLE)\n",
    "\n",
    "    bboxes = []\n",
    "    for contour in contours:\n",
    "        x, y, w, h = cv2.boundingRect(contour)\n",
    "        if w > 10 and h > 10:  # Filter small detections\n",
    "            bboxes.append((x, y, w, h))\n",
    "    \n",
    "    return bboxes\n",
    "\n",
    "# Process all frames\n",
    "annotations = []\n",
    "\n",
    "for filename in sorted(os.listdir(FRAME_FOLDER)):\n",
    "    if filename.endswith(\".jpg\"):\n",
    "        frame_path = os.path.join(FRAME_FOLDER, filename)\n",
    "        frame = cv2.imread(frame_path)\n",
    "        frame_id = int(filename.split(\"_\")[1].split(\".\")[0])  # Extract frame number\n",
    "\n",
    "        # Detect Player 1 (Red) and Player 2 (Yellow)\n",
    "        player1_boxes = detect_players(frame, LOWER_RED, UPPER_RED)\n",
    "        player2_boxes = detect_players(frame, LOWER_YELLOW, UPPER_YELLOW)\n",
    "\n",
    "        # Store results\n",
    "        for box in player1_boxes:\n",
    "            annotations.append([frame_id, 1, *box])  # Player 1\n",
    "        for box in player2_boxes:\n",
    "            annotations.append([frame_id, 2, *box])  # Player 2\n",
    "\n",
    "# Save annotations to CSV\n",
    "df = pd.DataFrame(annotations, columns=[\"frame_id\", \"player_id\", \"x\", \"y\", \"width\", \"height\"])\n",
    "df.to_csv(OUTPUT_CSV, index=False)\n",
    "\n",
    "print(f\"✅ Ground truth saved to {OUTPUT_CSV}\")\n"
   ]
  }
 ],
 "metadata": {
  "kernelspec": {
   "display_name": "Python 3",
   "language": "python",
   "name": "python3"
  },
  "language_info": {
   "codemirror_mode": {
    "name": "ipython",
    "version": 3
   },
   "file_extension": ".py",
   "mimetype": "text/x-python",
   "name": "python",
   "nbconvert_exporter": "python",
   "pygments_lexer": "ipython3",
   "version": "3.9.6"
  }
 },
 "nbformat": 4,
 "nbformat_minor": 2
}
